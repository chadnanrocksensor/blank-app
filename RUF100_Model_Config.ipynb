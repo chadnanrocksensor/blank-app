{
  "nbformat": 4,
  "nbformat_minor": 0,
  "metadata": {
    "colab": {
      "provenance": [],
      "authorship_tag": "ABX9TyOx2flHZz79GNWxuLQQnMll",
      "include_colab_link": true
    },
    "kernelspec": {
      "name": "python3",
      "display_name": "Python 3"
    },
    "language_info": {
      "name": "python"
    }
  },
  "cells": [
    {
      "cell_type": "markdown",
      "metadata": {
        "id": "view-in-github",
        "colab_type": "text"
      },
      "source": [
        "<a href=\"https://colab.research.google.com/github/chadnanrocksensor/blank-app/blob/main/RUF100_Model_Config.ipynb\" target=\"_parent\"><img src=\"https://colab.research.google.com/assets/colab-badge.svg\" alt=\"Open In Colab\"/></a>"
      ]
    },
    {
      "cell_type": "code",
      "execution_count": 1,
      "metadata": {
        "colab": {
          "base_uri": "https://localhost:8080/"
        },
        "id": "56kMrek8FDSp",
        "outputId": "3678e9ba-e801-46e0-e686-3629688dfbdc"
      },
      "outputs": [
        {
          "output_type": "stream",
          "name": "stdout",
          "text": [
            "Collecting streamlit\n",
            "  Downloading streamlit-1.44.0-py3-none-any.whl.metadata (8.9 kB)\n",
            "Requirement already satisfied: altair<6,>=4.0 in /usr/local/lib/python3.11/dist-packages (from streamlit) (5.5.0)\n",
            "Requirement already satisfied: blinker<2,>=1.0.0 in /usr/local/lib/python3.11/dist-packages (from streamlit) (1.9.0)\n",
            "Requirement already satisfied: cachetools<6,>=4.0 in /usr/local/lib/python3.11/dist-packages (from streamlit) (5.5.2)\n",
            "Requirement already satisfied: click<9,>=7.0 in /usr/local/lib/python3.11/dist-packages (from streamlit) (8.1.8)\n",
            "Requirement already satisfied: numpy<3,>=1.23 in /usr/local/lib/python3.11/dist-packages (from streamlit) (2.0.2)\n",
            "Requirement already satisfied: packaging<25,>=20 in /usr/local/lib/python3.11/dist-packages (from streamlit) (24.2)\n",
            "Requirement already satisfied: pandas<3,>=1.4.0 in /usr/local/lib/python3.11/dist-packages (from streamlit) (2.2.2)\n",
            "Requirement already satisfied: pillow<12,>=7.1.0 in /usr/local/lib/python3.11/dist-packages (from streamlit) (11.1.0)\n",
            "Requirement already satisfied: protobuf<6,>=3.20 in /usr/local/lib/python3.11/dist-packages (from streamlit) (5.29.4)\n",
            "Requirement already satisfied: pyarrow>=7.0 in /usr/local/lib/python3.11/dist-packages (from streamlit) (18.1.0)\n",
            "Requirement already satisfied: requests<3,>=2.27 in /usr/local/lib/python3.11/dist-packages (from streamlit) (2.32.3)\n",
            "Requirement already satisfied: tenacity<10,>=8.1.0 in /usr/local/lib/python3.11/dist-packages (from streamlit) (9.0.0)\n",
            "Requirement already satisfied: toml<2,>=0.10.1 in /usr/local/lib/python3.11/dist-packages (from streamlit) (0.10.2)\n",
            "Requirement already satisfied: typing-extensions<5,>=4.4.0 in /usr/local/lib/python3.11/dist-packages (from streamlit) (4.12.2)\n",
            "Collecting watchdog<7,>=2.1.5 (from streamlit)\n",
            "  Downloading watchdog-6.0.0-py3-none-manylinux2014_x86_64.whl.metadata (44 kB)\n",
            "\u001b[2K     \u001b[90m━━━━━━━━━━━━━━━━━━━━━━━━━━━━━━━━━━━━━━━━\u001b[0m \u001b[32m44.3/44.3 kB\u001b[0m \u001b[31m1.5 MB/s\u001b[0m eta \u001b[36m0:00:00\u001b[0m\n",
            "\u001b[?25hRequirement already satisfied: gitpython!=3.1.19,<4,>=3.0.7 in /usr/local/lib/python3.11/dist-packages (from streamlit) (3.1.44)\n",
            "Collecting pydeck<1,>=0.8.0b4 (from streamlit)\n",
            "  Downloading pydeck-0.9.1-py2.py3-none-any.whl.metadata (4.1 kB)\n",
            "Requirement already satisfied: tornado<7,>=6.0.3 in /usr/local/lib/python3.11/dist-packages (from streamlit) (6.4.2)\n",
            "Requirement already satisfied: jinja2 in /usr/local/lib/python3.11/dist-packages (from altair<6,>=4.0->streamlit) (3.1.6)\n",
            "Requirement already satisfied: jsonschema>=3.0 in /usr/local/lib/python3.11/dist-packages (from altair<6,>=4.0->streamlit) (4.23.0)\n",
            "Requirement already satisfied: narwhals>=1.14.2 in /usr/local/lib/python3.11/dist-packages (from altair<6,>=4.0->streamlit) (1.31.0)\n",
            "Requirement already satisfied: gitdb<5,>=4.0.1 in /usr/local/lib/python3.11/dist-packages (from gitpython!=3.1.19,<4,>=3.0.7->streamlit) (4.0.12)\n",
            "Requirement already satisfied: python-dateutil>=2.8.2 in /usr/local/lib/python3.11/dist-packages (from pandas<3,>=1.4.0->streamlit) (2.8.2)\n",
            "Requirement already satisfied: pytz>=2020.1 in /usr/local/lib/python3.11/dist-packages (from pandas<3,>=1.4.0->streamlit) (2025.1)\n",
            "Requirement already satisfied: tzdata>=2022.7 in /usr/local/lib/python3.11/dist-packages (from pandas<3,>=1.4.0->streamlit) (2025.1)\n",
            "Requirement already satisfied: charset-normalizer<4,>=2 in /usr/local/lib/python3.11/dist-packages (from requests<3,>=2.27->streamlit) (3.4.1)\n",
            "Requirement already satisfied: idna<4,>=2.5 in /usr/local/lib/python3.11/dist-packages (from requests<3,>=2.27->streamlit) (3.10)\n",
            "Requirement already satisfied: urllib3<3,>=1.21.1 in /usr/local/lib/python3.11/dist-packages (from requests<3,>=2.27->streamlit) (2.3.0)\n",
            "Requirement already satisfied: certifi>=2017.4.17 in /usr/local/lib/python3.11/dist-packages (from requests<3,>=2.27->streamlit) (2025.1.31)\n",
            "Requirement already satisfied: smmap<6,>=3.0.1 in /usr/local/lib/python3.11/dist-packages (from gitdb<5,>=4.0.1->gitpython!=3.1.19,<4,>=3.0.7->streamlit) (5.0.2)\n",
            "Requirement already satisfied: MarkupSafe>=2.0 in /usr/local/lib/python3.11/dist-packages (from jinja2->altair<6,>=4.0->streamlit) (3.0.2)\n",
            "Requirement already satisfied: attrs>=22.2.0 in /usr/local/lib/python3.11/dist-packages (from jsonschema>=3.0->altair<6,>=4.0->streamlit) (25.3.0)\n",
            "Requirement already satisfied: jsonschema-specifications>=2023.03.6 in /usr/local/lib/python3.11/dist-packages (from jsonschema>=3.0->altair<6,>=4.0->streamlit) (2024.10.1)\n",
            "Requirement already satisfied: referencing>=0.28.4 in /usr/local/lib/python3.11/dist-packages (from jsonschema>=3.0->altair<6,>=4.0->streamlit) (0.36.2)\n",
            "Requirement already satisfied: rpds-py>=0.7.1 in /usr/local/lib/python3.11/dist-packages (from jsonschema>=3.0->altair<6,>=4.0->streamlit) (0.23.1)\n",
            "Requirement already satisfied: six>=1.5 in /usr/local/lib/python3.11/dist-packages (from python-dateutil>=2.8.2->pandas<3,>=1.4.0->streamlit) (1.17.0)\n",
            "Downloading streamlit-1.44.0-py3-none-any.whl (9.8 MB)\n",
            "\u001b[2K   \u001b[90m━━━━━━━━━━━━━━━━━━━━━━━━━━━━━━━━━━━━━━━━\u001b[0m \u001b[32m9.8/9.8 MB\u001b[0m \u001b[31m22.4 MB/s\u001b[0m eta \u001b[36m0:00:00\u001b[0m\n",
            "\u001b[?25hDownloading pydeck-0.9.1-py2.py3-none-any.whl (6.9 MB)\n",
            "\u001b[2K   \u001b[90m━━━━━━━━━━━━━━━━━━━━━━━━━━━━━━━━━━━━━━━━\u001b[0m \u001b[32m6.9/6.9 MB\u001b[0m \u001b[31m44.3 MB/s\u001b[0m eta \u001b[36m0:00:00\u001b[0m\n",
            "\u001b[?25hDownloading watchdog-6.0.0-py3-none-manylinux2014_x86_64.whl (79 kB)\n",
            "\u001b[2K   \u001b[90m━━━━━━━━━━━━━━━━━━━━━━━━━━━━━━━━━━━━━━━━\u001b[0m \u001b[32m79.1/79.1 kB\u001b[0m \u001b[31m2.5 MB/s\u001b[0m eta \u001b[36m0:00:00\u001b[0m\n",
            "\u001b[?25hInstalling collected packages: watchdog, pydeck, streamlit\n",
            "Successfully installed pydeck-0.9.1 streamlit-1.44.0 watchdog-6.0.0\n"
          ]
        }
      ],
      "source": [
        "!pip install streamlit"
      ]
    },
    {
      "cell_type": "code",
      "source": [
        "%%writefile app.py\n",
        "import streamlit as st\n",
        "import pandas as pd\n",
        "import math\n",
        "\n",
        "# DataFrames (as defined above)\n",
        "# Code Block 1: Transmitter\n",
        "transmitter_data = {\n",
        "    'Code': ['W', 'S', 'D'],\n",
        "    'Description': ['Wall Mounted', 'Panel Mounted', 'Explosion-proof']\n",
        "}\n",
        "transmitter_df = pd.DataFrame(transmitter_data)\n",
        "\n",
        "# Code Block 2: Transducer\n",
        "transducer_data = {\n",
        "    'Code': ['TS-2', 'TM-1', 'TL-1', 'TS-2-HT', 'TM-1-HT', 'TL-1-HT', 'TC-1', 'TC-2'],\n",
        "    'Description': ['Small (Std. Clamp-on)', 'Medium (Std. Clamp-on)', 'Large (Std. Clamp-on)',\n",
        "                    'Small (High Temp. Clamp-on)', 'Medium (High Temp. Clamp-on)', 'Large (High Temp. Clamp-on)',\n",
        "                    'Standard (Insertion)', 'Longer (Insertion)'],\n",
        "    'Min_Diameter': [15, 50, 300, 15, 50, 300, 80, 80],\n",
        "    'Max_Diameter': [100, 700, 6000, 100, 700, 6000, 6000, 6000],\n",
        "    'Min_Temp': [-30, -30, -30, -30, -30, -30, -30, -30],\n",
        "    'Max_Temp': [90, 90, 90, 160, 160, 160, 160, 160,],\n",
        "    'Installation_Type': ['Clamp-on', 'Clamp-on', 'Clamp-on', 'Clamp-on', 'Clamp-on', 'Clamp-on','Insertion','Insertion']\n",
        "}\n",
        "transducer_df = pd.DataFrame(transducer_data)\n",
        "\n",
        "# Code Block 4: Pipe Material\n",
        "pipe_material_data = {\n",
        "    'Code': ['0', '1', '2', '3', '4', '5', '6'],\n",
        "    'Description': ['Carbon Steel', 'Stainless Steel', 'Cast Iron', 'FRP', 'PVC', 'Cement', 'Others']\n",
        "}\n",
        "pipe_material_df = pd.DataFrame(pipe_material_data)\n",
        "\n",
        "# Code Block 5: Nominal Pressure\n",
        "nominal_pressure_data = {\n",
        "    'Code': ['1', '2', '3', '4'],\n",
        "    'Description': ['1.0 MPa', '1.6 MPa', '2.5 MPa', '4.0 MPa']\n",
        "}\n",
        "nominal_pressure_df = pd.DataFrame(nominal_pressure_data)\n",
        "\n",
        "# Code Block 7: Temperature Sensor\n",
        "temperature_sensor_data = {\n",
        "    'Code': ['N', 'C', 'I', '12', 'S'],\n",
        "    'Description': ['No Temperature Sensor', 'Clamp-On', 'Insertion', 'Insertion with pressure', 'Small size temp. sensor']\n",
        "}\n",
        "temperature_sensor_df = pd.DataFrame(temperature_sensor_data)\n",
        "\n",
        "# Code Block 8: SD Card Storage\n",
        "sd_card_data = {\n",
        "    'Code': ['0', '1'],\n",
        "    'Description': ['With this function', 'Without this function']\n",
        "}\n",
        "sd_card_df = pd.DataFrame(sd_card_data)\n",
        "\n",
        "def flow_velocity(flow_rate_m3_per_hr, diameter_mm):\n",
        "    flow_rate_m3_per_sec = flow_rate_m3_per_hr / 3600\n",
        "    diameter_m = diameter_mm / 1000\n",
        "    cross_section_area_m2 = math.pi * (diameter_m / 2)**2\n",
        "    velocity_m_per_s = flow_rate_m3_per_sec / cross_section_area_m2\n",
        "    return velocity_m_per_s\n",
        "\n",
        "st.title('RUF100 Model Configurator')\n",
        "\n",
        "# Input Widgets\n",
        "transmitter_selection = st.selectbox('Transmitter', transmitter_df['Description'], index=0) # Default to Wall Mounted\n",
        "pipe_diameter = st.number_input('Pipe Diameter (mm)', min_value=15, max_value=6000, value=15)\n",
        "pipe_material_selection = st.selectbox('Pipe Material', pipe_material_df['Description'], index=0) # Default to Carbon Steel\n",
        "nominal_pressure_selection = st.selectbox('Nominal Pressure', nominal_pressure_df['Description'], index=0) # Default to 1.0 MPa\n",
        "cable_length = st.number_input('Cable Length (meters)', min_value=1, value=5) # Default to 5m\n",
        "temperature_sensor_selection = st.selectbox('Temperature Sensor', temperature_sensor_df['Description'], index=0) # Default to No Sensor\n",
        "sd_card_selection = st.selectbox('SD Card Storage', sd_card_df['Description'], index=0) # Default to With SD Card\n",
        "flow_rate = st.number_input('Flow rate (m³/hr)', min_value=0.0)\n",
        "temperature_input = st.number_input('Temperature (°C)', min_value=-273.0)\n",
        "\n",
        "# Transducer Selection Logic\n",
        "filtered_transducers = transducer_df[\n",
        "    (transducer_df['Min_Diameter'] <= pipe_diameter) &\n",
        "    (transducer_df['Max_Diameter'] >= pipe_diameter) &\n",
        "    (transducer_df['Min_Temp'] <= temperature_input) &\n",
        "    (transducer_df['Max_Temp'] >= temperature_input)\n",
        "]\n",
        "\n",
        "transducer_selection = st.selectbox('Transducer', filtered_transducers['Description'])\n",
        "\n",
        "# Velocity Check\n",
        "velocity = flow_velocity(flow_rate, pipe_diameter)\n",
        "if velocity > 30:\n",
        "    st.error('Velocity exceeds 30 m/s. Model is not suitable.')\n",
        "\n",
        "if temperature_input>160:\n",
        "    st.error('Temperature exceeds 160 degC. Model is not suitable.')\n",
        "\n",
        "# Model Code Generation\n",
        "transmitter_code = transmitter_df[transmitter_df['Description'] == transmitter_selection]['Code'].values[0]\n",
        "transducer_code = filtered_transducers[filtered_transducers['Description'] == transducer_selection]['Code'].values[0]\n",
        "pipe_material_code = pipe_material_df[pipe_material_df['Description'] == pipe_material_selection]['Code'].values[0]\n",
        "nominal_pressure_code = nominal_pressure_df[nominal_pressure_df['Description'] == nominal_pressure_selection]['Code'].values[0]\n",
        "temperature_sensor_code = temperature_sensor_df[temperature_sensor_df['Description'] == temperature_sensor_selection]['Code'].values[0]\n",
        "sd_card_code = sd_card_df[sd_card_df['Description'] == sd_card_selection]['Code'].values[0]\n",
        "\n",
        "model_code = f'RUF100-{transmitter_code}-{transducer_code}-{pipe_diameter}-{pipe_material_code}-{nominal_pressure_code}-{cable_length}-{temperature_sensor_code}-{sd_card_code}'\n",
        "st.write(f'**Model Code:** {model_code}')"
      ],
      "metadata": {
        "colab": {
          "base_uri": "https://localhost:8080/"
        },
        "id": "X-JAPb1aFQ7D",
        "outputId": "f68a69d8-0719-40fe-eb1d-31739b0fe129"
      },
      "execution_count": 2,
      "outputs": [
        {
          "output_type": "stream",
          "name": "stdout",
          "text": [
            "Writing app.py\n"
          ]
        }
      ]
    },
    {
      "cell_type": "markdown",
      "source": [],
      "metadata": {
        "id": "1gYgja8hYyXE"
      }
    },
    {
      "cell_type": "code",
      "source": [
        "!streamlit run app.py"
      ],
      "metadata": {
        "colab": {
          "base_uri": "https://localhost:8080/"
        },
        "id": "g0vSrtdrFg49",
        "outputId": "2eea7195-136c-4129-dd44-2039c89311e7"
      },
      "execution_count": null,
      "outputs": [
        {
          "output_type": "stream",
          "name": "stdout",
          "text": [
            "\n",
            "Collecting usage statistics. To deactivate, set browser.gatherUsageStats to false.\n",
            "\u001b[0m\n",
            "\u001b[0m\n",
            "\u001b[34m\u001b[1m  You can now view your Streamlit app in your browser.\u001b[0m\n",
            "\u001b[0m\n",
            "\u001b[34m  Local URL: \u001b[0m\u001b[1mhttp://localhost:8501\u001b[0m\n",
            "\u001b[34m  Network URL: \u001b[0m\u001b[1mhttp://172.28.0.12:8501\u001b[0m\n",
            "\u001b[34m  External URL: \u001b[0m\u001b[1mhttp://34.75.58.252:8501\u001b[0m\n",
            "\u001b[0m\n"
          ]
        }
      ]
    }
  ]
}